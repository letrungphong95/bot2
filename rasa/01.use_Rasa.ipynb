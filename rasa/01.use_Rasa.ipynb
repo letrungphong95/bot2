{
 "cells": [
  {
   "cell_type": "markdown",
   "metadata": {},
   "source": [
    "# 01.use_Rasa"
   ]
  },
  {
   "cell_type": "markdown",
   "metadata": {},
   "source": [
    "## 1.1 Use Rasa NLU"
   ]
  },
  {
   "cell_type": "code",
   "execution_count": 2,
   "metadata": {},
   "outputs": [],
   "source": [
    "import logging\n",
    "import pprint\n",
    "from rasa_nlu.training_data import load_data\n",
    "from rasa_nlu import config\n",
    "from rasa_nlu.model import Trainer\n",
    "from rasa_nlu.model import Interpreter\n",
    "from rasa_nlu.test import run_evaluation"
   ]
  },
  {
   "cell_type": "code",
   "execution_count": 3,
   "metadata": {},
   "outputs": [],
   "source": [
    "logfile = 'nlu_model.log'\n",
    "def train_nlu(data_path, configs, model_path):\n",
    "    logging.basicConfig(filename=logfile, level=logging.DEBUG)\n",
    "    training_data = load_data(data_path)\n",
    "    trainer = Trainer(config.load(configs))\n",
    "    trainer.train(training_data)\n",
    "    model_directory = trainer.persist(model_path, project_name='current', fixed_model_name='nlu')\n",
    "    run_evaluation(data_path, model_directory)\n",
    "    s\n",
    "train_nlu('./data/nlu.md', 'nlu_config.yml', './models')"
   ]
  },
  {
   "cell_type": "code",
   "execution_count": 23,
   "metadata": {},
   "outputs": [],
   "source": [
    "nlu_path = './models/current/nlu'\n",
    "interpreter = Interpreter.load(nlu_path)"
   ]
  },
  {
   "cell_type": "code",
   "execution_count": 34,
   "metadata": {},
   "outputs": [
    {
     "name": "stdout",
     "output_type": "stream",
     "text": [
      "Intent:  greet\n",
      "Entity:  \n",
      "Entity value: \n"
     ]
    }
   ],
   "source": [
    "# pprint.pprint(interpreter.parse(\"Share some latest news around the world?\"))\n",
    "# pprint.pprint(interpreter.parse(\"What is going on in technology?\"))\n",
    "# pprint.pprint(interpreter.parse(\"What is going on in education?\"))\n",
    "user_text = \"hello\"\n",
    "data_analyst = interpreter.parse(user_text)\n",
    "intent = data_analyst['intent']['name']\n",
    "default_entity = ''\n",
    "default_entity_value = ''\n",
    "if data_analyst['entities'] != []:\n",
    "    default_entity = data_analyst['entities'][0]['entity']\n",
    "    default_entity_value = data_analyst['entities'][0]['value']\n",
    "entity = default_entity\n",
    "entity_value = default_entity_value\n",
    "print('Intent: ', intent)\n",
    "print('Entity: ', entity)\n",
    "print('Entity value:', entity_value)"
   ]
  },
  {
   "cell_type": "markdown",
   "metadata": {},
   "source": [
    "## 1.2 User Rasa Core"
   ]
  },
  {
   "cell_type": "code",
   "execution_count": null,
   "metadata": {},
   "outputs": [],
   "source": [
    "import logging\n",
    "from rasa_core import config\n",
    "from rasa_core import utils\n",
    "from rasa_core.channels.slack import SlackInput\n",
    "from rasa_core.agent import Agent\n",
    "from rasa_core.interpreter import RasaNLUInterpreter\n",
    "from rasa_core.utils import EndpointConfig\n",
    "\n",
    "\n",
    "logfile = 'dialogue_model.log'\n",
    "\n",
    "\n",
    "def train_core(domain_file, model_path, training_data_file, policy_config):\n",
    "    logging.basicConfig(filename=logfile, level=logging.DEBUG)\n",
    "    agent = Agent(domain_file, policies=config.load(policy_config))\n",
    "    training_data = agent.load_data(training_data_file)\n",
    "    agent.train(training_data)\n",
    "    agent.persist(model_path)\n",
    "    return agent\n",
    "\n",
    "\n",
    "def run_core(core_model_path, nlu_model_path, action_endpoint_url, slack_token):\n",
    "    logging.basicConfig(filename=logfile, level=logging.DEBUG)\n",
    "    nlu_interpreter = RasaNLUInterpreter(nlu_model_path)\n",
    "    action_endpoint = EndpointConfig(url=action_endpoint_url)\n",
    "    agent = Agent.load(core_model_path, interpreter=nlu_interpreter, action_endpoint=action_endpoint)\n",
    "    input_channel = SlackInput(slack_token)\n",
    "    agent.handle_channels([input_channel], 5004, serve_forever=True)\n",
    "\n",
    "    print(\"Your bot is ready to talk! Type your messages here or send 'stop'\")\n",
    "    while True:\n",
    "        a = input()\n",
    "        if a == 'stop':\n",
    "            break\n",
    "        responses = agent.handle_text(a)\n",
    "        for response in responses:\n",
    "            print(response[\"text\"])\n",
    "    return agent\n",
    "\n",
    "\n",
    "if __name__ == '__main__':\n",
    "    \n",
    "    run_core('./models/dialogue', './models/current/nlu',\n",
    "             actionConfig[\"action_endpoint\"][\"url\"], slackConfig[\"slack\"][\"slack_token\"])"
   ]
  },
  {
   "cell_type": "code",
   "execution_count": null,
   "metadata": {},
   "outputs": [],
   "source": [
    "actionConfig = utils.read_yaml_file('endpoints.yml')\n",
    "slackConfig = utils.read_yaml_file('credentials.yml')\n",
    "train_core('domain.yml', './models/dialogue', './data/stories.md', 'policy.yml')"
   ]
  },
  {
   "cell_type": "code",
   "execution_count": null,
   "metadata": {},
   "outputs": [],
   "source": []
  },
  {
   "cell_type": "code",
   "execution_count": null,
   "metadata": {},
   "outputs": [],
   "source": []
  },
  {
   "cell_type": "code",
   "execution_count": null,
   "metadata": {},
   "outputs": [],
   "source": []
  }
 ],
 "metadata": {
  "kernelspec": {
   "display_name": "Python 3",
   "language": "python",
   "name": "python3"
  },
  "language_info": {
   "codemirror_mode": {
    "name": "ipython",
    "version": 3
   },
   "file_extension": ".py",
   "mimetype": "text/x-python",
   "name": "python",
   "nbconvert_exporter": "python",
   "pygments_lexer": "ipython3",
   "version": "3.6.8"
  }
 },
 "nbformat": 4,
 "nbformat_minor": 2
}
